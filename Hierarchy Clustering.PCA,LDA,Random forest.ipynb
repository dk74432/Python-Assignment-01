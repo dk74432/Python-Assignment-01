{
 "cells": [
  {
   "cell_type": "markdown",
   "metadata": {},
   "source": [
    "## HCA"
   ]
  },
  {
   "cell_type": "code",
   "execution_count": 5,
   "metadata": {},
   "outputs": [
    {
     "data": {
      "text/html": [
       "<div>\n",
       "<style scoped>\n",
       "    .dataframe tbody tr th:only-of-type {\n",
       "        vertical-align: middle;\n",
       "    }\n",
       "\n",
       "    .dataframe tbody tr th {\n",
       "        vertical-align: top;\n",
       "    }\n",
       "\n",
       "    .dataframe thead th {\n",
       "        text-align: right;\n",
       "    }\n",
       "</style>\n",
       "<table border=\"1\" class=\"dataframe\">\n",
       "  <thead>\n",
       "    <tr style=\"text-align: right;\">\n",
       "      <th></th>\n",
       "      <th>Na</th>\n",
       "      <th>Mg</th>\n",
       "      <th>Al</th>\n",
       "      <th>Si</th>\n",
       "      <th>K</th>\n",
       "      <th>Ca</th>\n",
       "      <th>Ba</th>\n",
       "      <th>Fe</th>\n",
       "      <th>Type</th>\n",
       "    </tr>\n",
       "    <tr>\n",
       "      <th>RI</th>\n",
       "      <th></th>\n",
       "      <th></th>\n",
       "      <th></th>\n",
       "      <th></th>\n",
       "      <th></th>\n",
       "      <th></th>\n",
       "      <th></th>\n",
       "      <th></th>\n",
       "      <th></th>\n",
       "    </tr>\n",
       "  </thead>\n",
       "  <tbody>\n",
       "    <tr>\n",
       "      <th>1.52101</th>\n",
       "      <td>13.64</td>\n",
       "      <td>4.49</td>\n",
       "      <td>1.10</td>\n",
       "      <td>71.78</td>\n",
       "      <td>0.06</td>\n",
       "      <td>8.75</td>\n",
       "      <td>0.00</td>\n",
       "      <td>0.0</td>\n",
       "      <td>1</td>\n",
       "    </tr>\n",
       "    <tr>\n",
       "      <th>1.51761</th>\n",
       "      <td>13.89</td>\n",
       "      <td>3.60</td>\n",
       "      <td>1.36</td>\n",
       "      <td>72.73</td>\n",
       "      <td>0.48</td>\n",
       "      <td>7.83</td>\n",
       "      <td>0.00</td>\n",
       "      <td>0.0</td>\n",
       "      <td>1</td>\n",
       "    </tr>\n",
       "    <tr>\n",
       "      <th>1.51618</th>\n",
       "      <td>13.53</td>\n",
       "      <td>3.55</td>\n",
       "      <td>1.54</td>\n",
       "      <td>72.99</td>\n",
       "      <td>0.39</td>\n",
       "      <td>7.78</td>\n",
       "      <td>0.00</td>\n",
       "      <td>0.0</td>\n",
       "      <td>1</td>\n",
       "    </tr>\n",
       "    <tr>\n",
       "      <th>1.51766</th>\n",
       "      <td>13.21</td>\n",
       "      <td>3.69</td>\n",
       "      <td>1.29</td>\n",
       "      <td>72.61</td>\n",
       "      <td>0.57</td>\n",
       "      <td>8.22</td>\n",
       "      <td>0.00</td>\n",
       "      <td>0.0</td>\n",
       "      <td>1</td>\n",
       "    </tr>\n",
       "    <tr>\n",
       "      <th>1.51742</th>\n",
       "      <td>13.27</td>\n",
       "      <td>3.62</td>\n",
       "      <td>1.24</td>\n",
       "      <td>73.08</td>\n",
       "      <td>0.55</td>\n",
       "      <td>8.07</td>\n",
       "      <td>0.00</td>\n",
       "      <td>0.0</td>\n",
       "      <td>1</td>\n",
       "    </tr>\n",
       "    <tr>\n",
       "      <th>...</th>\n",
       "      <td>...</td>\n",
       "      <td>...</td>\n",
       "      <td>...</td>\n",
       "      <td>...</td>\n",
       "      <td>...</td>\n",
       "      <td>...</td>\n",
       "      <td>...</td>\n",
       "      <td>...</td>\n",
       "      <td>...</td>\n",
       "    </tr>\n",
       "    <tr>\n",
       "      <th>1.51623</th>\n",
       "      <td>14.14</td>\n",
       "      <td>0.00</td>\n",
       "      <td>2.88</td>\n",
       "      <td>72.61</td>\n",
       "      <td>0.08</td>\n",
       "      <td>9.18</td>\n",
       "      <td>1.06</td>\n",
       "      <td>0.0</td>\n",
       "      <td>7</td>\n",
       "    </tr>\n",
       "    <tr>\n",
       "      <th>1.51685</th>\n",
       "      <td>14.92</td>\n",
       "      <td>0.00</td>\n",
       "      <td>1.99</td>\n",
       "      <td>73.06</td>\n",
       "      <td>0.00</td>\n",
       "      <td>8.40</td>\n",
       "      <td>1.59</td>\n",
       "      <td>0.0</td>\n",
       "      <td>7</td>\n",
       "    </tr>\n",
       "    <tr>\n",
       "      <th>1.52065</th>\n",
       "      <td>14.36</td>\n",
       "      <td>0.00</td>\n",
       "      <td>2.02</td>\n",
       "      <td>73.42</td>\n",
       "      <td>0.00</td>\n",
       "      <td>8.44</td>\n",
       "      <td>1.64</td>\n",
       "      <td>0.0</td>\n",
       "      <td>7</td>\n",
       "    </tr>\n",
       "    <tr>\n",
       "      <th>1.51651</th>\n",
       "      <td>14.38</td>\n",
       "      <td>0.00</td>\n",
       "      <td>1.94</td>\n",
       "      <td>73.61</td>\n",
       "      <td>0.00</td>\n",
       "      <td>8.48</td>\n",
       "      <td>1.57</td>\n",
       "      <td>0.0</td>\n",
       "      <td>7</td>\n",
       "    </tr>\n",
       "    <tr>\n",
       "      <th>1.51711</th>\n",
       "      <td>14.23</td>\n",
       "      <td>0.00</td>\n",
       "      <td>2.08</td>\n",
       "      <td>73.36</td>\n",
       "      <td>0.00</td>\n",
       "      <td>8.62</td>\n",
       "      <td>1.67</td>\n",
       "      <td>0.0</td>\n",
       "      <td>7</td>\n",
       "    </tr>\n",
       "  </tbody>\n",
       "</table>\n",
       "<p>214 rows × 9 columns</p>\n",
       "</div>"
      ],
      "text/plain": [
       "            Na    Mg    Al     Si     K    Ca    Ba   Fe  Type\n",
       "RI                                                            \n",
       "1.52101  13.64  4.49  1.10  71.78  0.06  8.75  0.00  0.0     1\n",
       "1.51761  13.89  3.60  1.36  72.73  0.48  7.83  0.00  0.0     1\n",
       "1.51618  13.53  3.55  1.54  72.99  0.39  7.78  0.00  0.0     1\n",
       "1.51766  13.21  3.69  1.29  72.61  0.57  8.22  0.00  0.0     1\n",
       "1.51742  13.27  3.62  1.24  73.08  0.55  8.07  0.00  0.0     1\n",
       "...        ...   ...   ...    ...   ...   ...   ...  ...   ...\n",
       "1.51623  14.14  0.00  2.88  72.61  0.08  9.18  1.06  0.0     7\n",
       "1.51685  14.92  0.00  1.99  73.06  0.00  8.40  1.59  0.0     7\n",
       "1.52065  14.36  0.00  2.02  73.42  0.00  8.44  1.64  0.0     7\n",
       "1.51651  14.38  0.00  1.94  73.61  0.00  8.48  1.57  0.0     7\n",
       "1.51711  14.23  0.00  2.08  73.36  0.00  8.62  1.67  0.0     7\n",
       "\n",
       "[214 rows x 9 columns]"
      ]
     },
     "execution_count": 5,
     "metadata": {},
     "output_type": "execute_result"
    }
   ],
   "source": [
    "# import data\n",
    "import pandas as pd\n",
    "import numpy as np\n",
    "df_glass = pd.read_csv(r\"C:\\Users\\welcome\\Desktop\\Jupyter\\glass.csv\",index_col=0)\n",
    "df_glass"
   ]
  },
  {
   "cell_type": "code",
   "execution_count": 6,
   "metadata": {},
   "outputs": [
    {
     "name": "stdout",
     "output_type": "stream",
     "text": [
      "<class 'pandas.core.frame.DataFrame'>\n",
      "Float64Index: 214 entries, 1.52101 to 1.51711\n",
      "Data columns (total 9 columns):\n",
      " #   Column  Non-Null Count  Dtype  \n",
      "---  ------  --------------  -----  \n",
      " 0   Na      214 non-null    float64\n",
      " 1   Mg      214 non-null    float64\n",
      " 2   Al      214 non-null    float64\n",
      " 3   Si      214 non-null    float64\n",
      " 4   K       214 non-null    float64\n",
      " 5   Ca      214 non-null    float64\n",
      " 6   Ba      214 non-null    float64\n",
      " 7   Fe      214 non-null    float64\n",
      " 8   Type    214 non-null    int64  \n",
      "dtypes: float64(8), int64(1)\n",
      "memory usage: 16.7 KB\n",
      "None\n"
     ]
    }
   ],
   "source": [
    "# get df info\n",
    "print(df_glass.info())"
   ]
  },
  {
   "cell_type": "code",
   "execution_count": 7,
   "metadata": {},
   "outputs": [],
   "source": [
    "# shuffle df\n",
    "from sklearn.utils import shuffle\n",
    "df_shuffled = shuffle(df_glass, random_state=42)"
   ]
  },
  {
   "cell_type": "code",
   "execution_count": 8,
   "metadata": {},
   "outputs": [],
   "source": [
    "# standardize\n",
    "from sklearn.preprocessing import StandardScaler\n",
    "scaler = StandardScaler() # instantiate scaler object\n",
    "scaled_features = scaler.fit_transform(df_shuffled) # fit and transform df_shuffled"
   ]
  },
  {
   "cell_type": "code",
   "execution_count": 9,
   "metadata": {},
   "outputs": [
    {
     "data": {
      "text/html": [
       "<div>\n",
       "<style scoped>\n",
       "    .dataframe tbody tr th:only-of-type {\n",
       "        vertical-align: middle;\n",
       "    }\n",
       "\n",
       "    .dataframe tbody tr th {\n",
       "        vertical-align: top;\n",
       "    }\n",
       "\n",
       "    .dataframe thead th {\n",
       "        text-align: right;\n",
       "    }\n",
       "</style>\n",
       "<table border=\"1\" class=\"dataframe\">\n",
       "  <thead>\n",
       "    <tr style=\"text-align: right;\">\n",
       "      <th></th>\n",
       "      <th>0</th>\n",
       "      <th>1</th>\n",
       "      <th>2</th>\n",
       "      <th>3</th>\n",
       "      <th>4</th>\n",
       "      <th>5</th>\n",
       "      <th>6</th>\n",
       "      <th>7</th>\n",
       "      <th>8</th>\n",
       "    </tr>\n",
       "  </thead>\n",
       "  <tbody>\n",
       "    <tr>\n",
       "      <th>0</th>\n",
       "      <td>-0.500618</td>\n",
       "      <td>0.636168</td>\n",
       "      <td>-0.170460</td>\n",
       "      <td>0.438787</td>\n",
       "      <td>0.112107</td>\n",
       "      <td>-0.392276</td>\n",
       "      <td>-0.352877</td>\n",
       "      <td>0.545111</td>\n",
       "      <td>-0.848275</td>\n",
       "    </tr>\n",
       "    <tr>\n",
       "      <th>1</th>\n",
       "      <td>1.586056</td>\n",
       "      <td>-1.865511</td>\n",
       "      <td>1.797009</td>\n",
       "      <td>0.814078</td>\n",
       "      <td>-0.763919</td>\n",
       "      <td>-0.004904</td>\n",
       "      <td>0.977618</td>\n",
       "      <td>-0.586451</td>\n",
       "      <td>2.010478</td>\n",
       "    </tr>\n",
       "    <tr>\n",
       "      <th>2</th>\n",
       "      <td>-0.439246</td>\n",
       "      <td>0.670914</td>\n",
       "      <td>-1.154195</td>\n",
       "      <td>-0.557675</td>\n",
       "      <td>-0.471910</td>\n",
       "      <td>0.628977</td>\n",
       "      <td>-0.352877</td>\n",
       "      <td>1.162326</td>\n",
       "      <td>-0.848275</td>\n",
       "    </tr>\n",
       "    <tr>\n",
       "      <th>3</th>\n",
       "      <td>1.770175</td>\n",
       "      <td>-1.865511</td>\n",
       "      <td>1.877314</td>\n",
       "      <td>0.814078</td>\n",
       "      <td>-0.763919</td>\n",
       "      <td>-0.138723</td>\n",
       "      <td>0.937300</td>\n",
       "      <td>0.339372</td>\n",
       "      <td>2.010478</td>\n",
       "    </tr>\n",
       "    <tr>\n",
       "      <th>4</th>\n",
       "      <td>0.383150</td>\n",
       "      <td>0.691761</td>\n",
       "      <td>0.732970</td>\n",
       "      <td>-0.764732</td>\n",
       "      <td>0.219689</td>\n",
       "      <td>-0.758518</td>\n",
       "      <td>-0.352877</td>\n",
       "      <td>-0.586451</td>\n",
       "      <td>-0.371816</td>\n",
       "    </tr>\n",
       "    <tr>\n",
       "      <th>...</th>\n",
       "      <td>...</td>\n",
       "      <td>...</td>\n",
       "      <td>...</td>\n",
       "      <td>...</td>\n",
       "      <td>...</td>\n",
       "      <td>...</td>\n",
       "      <td>...</td>\n",
       "      <td>...</td>\n",
       "      <td>...</td>\n",
       "    </tr>\n",
       "    <tr>\n",
       "      <th>209</th>\n",
       "      <td>-3.286943</td>\n",
       "      <td>-1.865511</td>\n",
       "      <td>1.315180</td>\n",
       "      <td>-3.676472</td>\n",
       "      <td>0.127475</td>\n",
       "      <td>3.058855</td>\n",
       "      <td>5.997210</td>\n",
       "      <td>2.293888</td>\n",
       "      <td>-0.371816</td>\n",
       "    </tr>\n",
       "    <tr>\n",
       "      <th>210</th>\n",
       "      <td>-0.979326</td>\n",
       "      <td>0.629219</td>\n",
       "      <td>-0.270841</td>\n",
       "      <td>0.827019</td>\n",
       "      <td>0.127475</td>\n",
       "      <td>-0.321844</td>\n",
       "      <td>-0.352877</td>\n",
       "      <td>-0.586451</td>\n",
       "      <td>-0.848275</td>\n",
       "    </tr>\n",
       "    <tr>\n",
       "      <th>211</th>\n",
       "      <td>-0.353324</td>\n",
       "      <td>0.504135</td>\n",
       "      <td>0.271217</td>\n",
       "      <td>0.788195</td>\n",
       "      <td>-0.656337</td>\n",
       "      <td>-0.399319</td>\n",
       "      <td>-0.352877</td>\n",
       "      <td>1.368065</td>\n",
       "      <td>-0.371816</td>\n",
       "    </tr>\n",
       "    <tr>\n",
       "      <th>212</th>\n",
       "      <td>0.837308</td>\n",
       "      <td>-0.343656</td>\n",
       "      <td>0.431826</td>\n",
       "      <td>0.024673</td>\n",
       "      <td>-0.763919</td>\n",
       "      <td>0.255692</td>\n",
       "      <td>-0.352877</td>\n",
       "      <td>-0.586451</td>\n",
       "      <td>1.534019</td>\n",
       "    </tr>\n",
       "    <tr>\n",
       "      <th>213</th>\n",
       "      <td>-0.967052</td>\n",
       "      <td>0.052443</td>\n",
       "      <td>-1.234500</td>\n",
       "      <td>1.499954</td>\n",
       "      <td>-0.226008</td>\n",
       "      <td>0.326123</td>\n",
       "      <td>-0.352877</td>\n",
       "      <td>1.470934</td>\n",
       "      <td>-0.371816</td>\n",
       "    </tr>\n",
       "  </tbody>\n",
       "</table>\n",
       "<p>214 rows × 9 columns</p>\n",
       "</div>"
      ],
      "text/plain": [
       "            0         1         2         3         4         5         6  \\\n",
       "0   -0.500618  0.636168 -0.170460  0.438787  0.112107 -0.392276 -0.352877   \n",
       "1    1.586056 -1.865511  1.797009  0.814078 -0.763919 -0.004904  0.977618   \n",
       "2   -0.439246  0.670914 -1.154195 -0.557675 -0.471910  0.628977 -0.352877   \n",
       "3    1.770175 -1.865511  1.877314  0.814078 -0.763919 -0.138723  0.937300   \n",
       "4    0.383150  0.691761  0.732970 -0.764732  0.219689 -0.758518 -0.352877   \n",
       "..        ...       ...       ...       ...       ...       ...       ...   \n",
       "209 -3.286943 -1.865511  1.315180 -3.676472  0.127475  3.058855  5.997210   \n",
       "210 -0.979326  0.629219 -0.270841  0.827019  0.127475 -0.321844 -0.352877   \n",
       "211 -0.353324  0.504135  0.271217  0.788195 -0.656337 -0.399319 -0.352877   \n",
       "212  0.837308 -0.343656  0.431826  0.024673 -0.763919  0.255692 -0.352877   \n",
       "213 -0.967052  0.052443 -1.234500  1.499954 -0.226008  0.326123 -0.352877   \n",
       "\n",
       "            7         8  \n",
       "0    0.545111 -0.848275  \n",
       "1   -0.586451  2.010478  \n",
       "2    1.162326 -0.848275  \n",
       "3    0.339372  2.010478  \n",
       "4   -0.586451 -0.371816  \n",
       "..        ...       ...  \n",
       "209  2.293888 -0.371816  \n",
       "210 -0.586451 -0.848275  \n",
       "211  1.368065 -0.371816  \n",
       "212 -0.586451  1.534019  \n",
       "213  1.470934 -0.371816  \n",
       "\n",
       "[214 rows x 9 columns]"
      ]
     },
     "execution_count": 9,
     "metadata": {},
     "output_type": "execute_result"
    }
   ],
   "source": [
    "df_scaled_features=pd.DataFrame(scaled_features)\n",
    "df_scaled_features"
   ]
  },
  {
   "cell_type": "code",
   "execution_count": 10,
   "metadata": {},
   "outputs": [],
   "source": [
    "# create linkage model\n",
    "from scipy.cluster.hierarchy import linkage \n",
    "model = linkage(scaled_features, method='complete')"
   ]
  },
  {
   "cell_type": "code",
   "execution_count": 11,
   "metadata": {},
   "outputs": [
    {
     "data": {
      "image/png": "[encoded data removed]",
      "text/plain": [
       "<Figure size 3600x360 with 1 Axes>"
      ]
     },
     "metadata": {
      "needs_background": "light"
     },
     "output_type": "display_data"
    }
   ],
   "source": [
    "import matplotlib.pyplot as plt\n",
    "from scipy.cluster.hierarchy import dendrogram\n",
    "plt.figure(figsize=(50,5))\n",
    "plt.title('Dendrogrm for Glass Data')\n",
    "dendrogram(model,leaf_rotation=90,leaf_font_size=10)\n",
    "plt.show()"
   ]
  },
  {
   "cell_type": "code",
   "execution_count": 12,
   "metadata": {},
   "outputs": [],
   "source": [
    "# predicted lables\n",
    "from scipy.cluster.hierarchy import fcluster\n",
    "labels=fcluster(model,t=9,criterion=\"distance\")"
   ]
  },
  {
   "cell_type": "code",
   "execution_count": 13,
   "metadata": {},
   "outputs": [
    {
     "name": "stdout",
     "output_type": "stream",
     "text": [
      "            Na    Mg    Al     Si     K     Ca    Ba    Fe  Type  \\\n",
      "RI                                                                 \n",
      "1.51755  13.00  3.60  1.36  72.99  0.57   8.40  0.00  0.11     1   \n",
      "1.51727  14.70  0.00  2.34  73.28  0.00   8.95  0.66  0.00     7   \n",
      "1.52152  13.05  3.65  0.87  72.22  0.19   9.85  0.00  0.17     1   \n",
      "1.51602  14.85  0.00  2.38  73.28  0.00   8.76  0.64  0.09     7   \n",
      "1.51708  13.72  3.68  1.81  72.06  0.64   7.88  0.00  0.00     2   \n",
      "1.52739  11.02  0.00  0.75  73.08  0.00  14.96  0.00  0.00     2   \n",
      "1.51761  12.81  3.54  1.23  73.24  0.58   8.39  0.00  0.00     1   \n",
      "1.51569  13.24  3.49  1.47  73.25  0.38   8.03  0.00  0.00     2   \n",
      "1.51590  13.02  3.58  1.51  73.12  0.69   7.96  0.00  0.00     2   \n",
      "1.51660  12.99  3.18  1.23  72.97  0.58   8.81  0.00  0.24     2   \n",
      "\n",
      "         predicted_cluster  \n",
      "RI                          \n",
      "1.51755                  4  \n",
      "1.51727                  4  \n",
      "1.52152                  4  \n",
      "1.51602                  4  \n",
      "1.51708                  4  \n",
      "1.52739                  2  \n",
      "1.51761                  4  \n",
      "1.51569                  4  \n",
      "1.51590                  4  \n",
      "1.51660                  4  \n"
     ]
    },
    {
     "name": "stderr",
     "output_type": "stream",
     "text": [
      "<ipython-input-13-6a3107222ff8>:2: SettingWithCopyWarning: \n",
      "A value is trying to be set on a copy of a slice from a DataFrame.\n",
      "Try using .loc[row_indexer,col_indexer] = value instead\n",
      "\n",
      "See the caveats in the documentation: https://pandas.pydata.org/pandas-docs/stable/user_guide/indexing.html#returning-a-view-versus-a-copy\n",
      "  df_shuffled[\"predicted_cluster\"]=labels\n"
     ]
    }
   ],
   "source": [
    "# Add array as a Column in suffled Data\n",
    "df_shuffled[\"predicted_cluster\"]=labels\n",
    "print(df_shuffled.head(10))"
   ]
  },
  {
   "cell_type": "code",
   "execution_count": 14,
   "metadata": {},
   "outputs": [],
   "source": [
    "from sklearn.cluster import AgglomerativeClustering\n",
    "aggo_cluster=AgglomerativeClustering(n_clusters=7,affinity=\"manhattan\",linkage=\"average\")"
   ]
  },
  {
   "cell_type": "code",
   "execution_count": 15,
   "metadata": {},
   "outputs": [
    {
     "data": {
      "text/plain": [
       "array([4, 4, 4, 4, 4, 4, 4, 4, 4, 4, 4, 4, 4, 4, 4, 4, 4, 4, 4, 4, 4, 4,\n",
       "       4, 4, 4, 4, 4, 4, 4, 4, 4, 4, 4, 4, 4, 4, 4, 4, 4, 4, 4, 4, 4, 4,\n",
       "       4, 4, 4, 4, 4, 4, 4, 4, 4, 4, 4, 4, 4, 4, 4, 4, 4, 4, 4, 4, 4, 4,\n",
       "       4, 4, 4, 4, 4, 4, 4, 4, 4, 4, 4, 4, 4, 4, 4, 4, 4, 4, 4, 4, 4, 4,\n",
       "       4, 4, 4, 4, 4, 4, 4, 4, 4, 4, 4, 4, 4, 4, 4, 4, 4, 0, 0, 0, 4, 4,\n",
       "       0, 0, 0, 4, 4, 4, 4, 4, 4, 4, 4, 4, 4, 4, 4, 4, 4, 4, 4, 4, 4, 0,\n",
       "       4, 4, 4, 4, 4, 4, 4, 4, 4, 4, 4, 4, 4, 4, 4, 4, 4, 4, 4, 4, 4, 4,\n",
       "       4, 4, 4, 4, 4, 4, 4, 4, 4, 1, 2, 2, 2, 2, 2, 2, 2, 3, 3, 2, 2, 2,\n",
       "       2, 2, 2, 2, 2, 2, 2, 2, 5, 1, 1, 2, 2, 2, 2, 2, 2, 2, 2, 2, 2, 2,\n",
       "       2, 2, 2, 6, 2, 2, 2, 2, 2, 2, 2, 2, 2, 2, 2, 2], dtype=int64)"
      ]
     },
     "execution_count": 15,
     "metadata": {},
     "output_type": "execute_result"
    }
   ],
   "source": [
    "aggo_cluster.fit_predict(df_glass)"
   ]
  },
  {
   "cell_type": "markdown",
   "metadata": {},
   "source": [
    "## PCA- Can be used in both Supervised & UnSupervised Learning"
   ]
  },
  {
   "cell_type": "code",
   "execution_count": 16,
   "metadata": {},
   "outputs": [],
   "source": [
    "from sklearn.decomposition import PCA\n",
    "model=PCA()"
   ]
  },
  {
   "cell_type": "code",
   "execution_count": 17,
   "metadata": {},
   "outputs": [
    {
     "data": {
      "text/plain": [
       "PCA()"
      ]
     },
     "execution_count": 17,
     "metadata": {},
     "output_type": "execute_result"
    }
   ],
   "source": [
    "model.fit(scaled_features)"
   ]
  },
  {
   "cell_type": "code",
   "execution_count": 18,
   "metadata": {},
   "outputs": [],
   "source": [
    "# Define pca estimator with number of reduce components\n",
    "# HERE WE REDUCE THE FETURE\n",
    "pca=PCA(n_components=5)"
   ]
  },
  {
   "cell_type": "code",
   "execution_count": 19,
   "metadata": {},
   "outputs": [
    {
     "name": "stdout",
     "output_type": "stream",
     "text": [
      "[0.32899888 0.17720982 0.15187324 0.12171836 0.09994581]\n"
     ]
    }
   ],
   "source": [
    "#fit the dta into PCA estimator\n",
    "# HERE WE REDUCE THE FETURE from 9 to 5\n",
    "pca.fit(scaled_features,labels)\n",
    "print(pca.explained_variance_ratio_)"
   ]
  },
  {
   "cell_type": "code",
   "execution_count": 20,
   "metadata": {},
   "outputs": [
    {
     "name": "stdout",
     "output_type": "stream",
     "text": [
      "[ 0.10387121  0.12623956  0.05291673  0.18902659 -0.27557372 -0.28564151\n",
      "  0.23995583  0.84828497  0.00670663]\n"
     ]
    }
   ],
   "source": [
    "# print first pca component\n",
    "first_pca=pca.components_[4]\n",
    "print(first_pca)"
   ]
  },
  {
   "cell_type": "code",
   "execution_count": 21,
   "metadata": {},
   "outputs": [],
   "source": [
    "# transport the fitted Data using transform method\n",
    "pca_reduced=pca.transform(scaled_features)"
   ]
  },
  {
   "cell_type": "code",
   "execution_count": 22,
   "metadata": {},
   "outputs": [
    {
     "data": {
      "text/plain": [
       "(214, 5)"
      ]
     },
     "execution_count": 22,
     "metadata": {},
     "output_type": "execute_result"
    }
   ],
   "source": [
    "#view the reduce shape (lower dimension of feature from 15 to 10)\n",
    "pca_reduced.shape"
   ]
  },
  {
   "cell_type": "code",
   "execution_count": 23,
   "metadata": {},
   "outputs": [
    {
     "data": {
      "text/plain": [
       "array([[-0.50061837,  0.63616803, -0.17046023, ..., -0.35287683,\n",
       "         0.54511092, -0.84827468],\n",
       "       [ 1.58605628, -1.86551055,  1.79700922, ...,  0.97761765,\n",
       "        -0.5864509 ,  2.01047778],\n",
       "       [-0.43924559,  0.67091357, -1.15419496, ..., -0.35287683,\n",
       "         1.16232646, -0.84827468],\n",
       "       ...,\n",
       "       [-0.35332369,  0.50413499,  0.27121658, ..., -0.35287683,\n",
       "         1.36806497, -0.37181593],\n",
       "       [ 0.83730832, -0.34365608,  0.43182633, ..., -0.35287683,\n",
       "        -0.5864509 ,  1.53401903],\n",
       "       [-0.96705153,  0.05244303, -1.23449983, ..., -0.35287683,\n",
       "         1.47093423, -0.37181593]])"
      ]
     },
     "execution_count": 23,
     "metadata": {},
     "output_type": "execute_result"
    }
   ],
   "source": [
    "scaled_features"
   ]
  },
  {
   "cell_type": "code",
   "execution_count": 24,
   "metadata": {},
   "outputs": [],
   "source": [
    "# first use KNN classifier method - import it from sklearn\n",
    "from sklearn.neighbors import KNeighborsClassifier"
   ]
  },
  {
   "cell_type": "code",
   "execution_count": 25,
   "metadata": {},
   "outputs": [],
   "source": [
    "# instantiate the knn estimator\n",
    "knn = KNeighborsClassifier()"
   ]
  },
  {
   "cell_type": "code",
   "execution_count": 26,
   "metadata": {},
   "outputs": [
    {
     "data": {
      "text/plain": [
       "KNeighborsClassifier()"
      ]
     },
     "execution_count": 26,
     "metadata": {},
     "output_type": "execute_result"
    }
   ],
   "source": [
    "knn.fit(scaled_features,labels)"
   ]
  },
  {
   "cell_type": "code",
   "execution_count": 27,
   "metadata": {},
   "outputs": [],
   "source": [
    "labels_predict=knn.predict(scaled_features)"
   ]
  },
  {
   "cell_type": "code",
   "execution_count": 30,
   "metadata": {},
   "outputs": [
    {
     "data": {
      "text/plain": [
       "0.9672897196261683"
      ]
     },
     "execution_count": 30,
     "metadata": {},
     "output_type": "execute_result"
    }
   ],
   "source": [
    "labels_predict=knn.score(scaled_features,labels)\n",
    "labels_predict"
   ]
  },
  {
   "cell_type": "code",
   "execution_count": 32,
   "metadata": {},
   "outputs": [
    {
     "name": "stdout",
     "output_type": "stream",
     "text": [
      "Accuracy: 0.9672897196261683\n"
     ]
    }
   ],
   "source": [
    "from sklearn.metrics import accuracy_score\n",
    "print(\"Accuracy:\",accuracy_score(labels,labels_predict))"
   ]
  },
  {
   "cell_type": "code",
   "execution_count": 33,
   "metadata": {},
   "outputs": [
    {
     "name": "stdout",
     "output_type": "stream",
     "text": [
      "          Predicted 1  Predicted 2  Predicted 3  Predicted 4  Predicted 5  \\\n",
      "Actual 1            0            0            2            0            0   \n",
      "Actual 2            0            4            0            1            0   \n",
      "Actual 3            0            0            3            3            0   \n",
      "Actual 4            0            0            0          200            0   \n",
      "Actual 5            0            0            0            1            0   \n",
      "Total               0            4            5          205            0   \n",
      "\n",
      "          Total  \n",
      "Actual 1      2  \n",
      "Actual 2      5  \n",
      "Actual 3      6  \n",
      "Actual 4    200  \n",
      "Actual 5      1  \n",
      "Total       214  \n"
     ]
    }
   ],
   "source": [
    "## Evaluate Model Performance\n",
    "from sklearn.metrics import confusion_matrix\n",
    "cm=pd.DataFrame(confusion_matrix(labels,labels_predict))\n",
    "cm['Total']=np.sum(cm,axis=1)\n",
    "cm=cm.append(np.sum(cm,axis=0),ignore_index=True)\n",
    "cm.columns=[\"Predicted 1\",\"Predicted 2\",\"Predicted 3\",\"Predicted 4\",\"Predicted 5\",\"Total\"]\n",
    "cm=cm.set_index([[\"Actual 1\",\"Actual 2\",\"Actual 3\",\"Actual 4\",\"Actual 5\",\"Total\"]])\n",
    "print(cm)"
   ]
  },
  {
   "cell_type": "markdown",
   "metadata": {},
   "source": [
    "## LDA- Cann't be use for Unlabeled data"
   ]
  },
  {
   "cell_type": "code",
   "execution_count": 34,
   "metadata": {},
   "outputs": [],
   "source": [
    "from sklearn.discriminant_analysis import LinearDiscriminantAnalysis\n",
    "model=LinearDiscriminantAnalysis()"
   ]
  },
  {
   "cell_type": "code",
   "execution_count": 35,
   "metadata": {},
   "outputs": [],
   "source": [
    "lda=LinearDiscriminantAnalysis(n_components=5)"
   ]
  },
  {
   "cell_type": "code",
   "execution_count": 36,
   "metadata": {},
   "outputs": [
    {
     "name": "stdout",
     "output_type": "stream",
     "text": [
      "[0.7732167  0.14028293 0.06114046 0.02535991]\n"
     ]
    },
    {
     "name": "stderr",
     "output_type": "stream",
     "text": [
      "C:\\Users\\welcome\\anaconda32bit\\lib\\site-packages\\sklearn\\discriminant_analysis.py:466: ChangedBehaviorWarning: n_components cannot be larger than min(n_features, n_classes - 1). Using min(n_features, n_classes - 1) = min(9, 5 - 1) = 4 components.\n",
      "  ChangedBehaviorWarning)\n",
      "C:\\Users\\welcome\\anaconda32bit\\lib\\site-packages\\sklearn\\discriminant_analysis.py:472: FutureWarning: In version 0.23, setting n_components > min(n_features, n_classes - 1) will raise a ValueError. You should set n_components to None (default), or a value smaller or equal to min(n_features, n_classes - 1).\n",
      "  warnings.warn(future_msg, FutureWarning)\n"
     ]
    }
   ],
   "source": [
    "#fit the dta into PCA estimator\n",
    "# HERE WE REDUCE THE FETURE from 9 to 5\n",
    "lda.fit(scaled_features,labels)\n",
    "print(lda.explained_variance_ratio_)"
   ]
  },
  {
   "cell_type": "markdown",
   "metadata": {},
   "source": [
    "##### include Random Forest"
   ]
  },
  {
   "cell_type": "code",
   "execution_count": 37,
   "metadata": {},
   "outputs": [],
   "source": [
    "from sklearn.ensemble import RandomForestClassifier\n",
    "model=RandomForestClassifier()"
   ]
  },
  {
   "cell_type": "code",
   "execution_count": 38,
   "metadata": {},
   "outputs": [],
   "source": [
    "rfc=RandomForestClassifier(n_estimators=10)"
   ]
  },
  {
   "cell_type": "code",
   "execution_count": 39,
   "metadata": {},
   "outputs": [
    {
     "data": {
      "text/plain": [
       "RandomForestClassifier(bootstrap=True, class_weight=None, criterion='gini',\n",
       "                       max_depth=None, max_features='auto', max_leaf_nodes=None,\n",
       "                       min_impurity_decrease=0.0, min_impurity_split=None,\n",
       "                       min_samples_leaf=1, min_samples_split=2,\n",
       "                       min_weight_fraction_leaf=0.0, n_estimators=10,\n",
       "                       n_jobs=None, oob_score=False, random_state=None,\n",
       "                       verbose=0, warm_start=False)"
      ]
     },
     "execution_count": 39,
     "metadata": {},
     "output_type": "execute_result"
    }
   ],
   "source": [
    "#fit the dta into PCA estimator\n",
    "# HERE WE REDUCE THE FETURE from 9 to 5\n",
    "rfc.fit(scaled_features,labels)"
   ]
  },
  {
   "cell_type": "markdown",
   "metadata": {},
   "source": [
    "### Using Knn to find the Model Accuracy"
   ]
  },
  {
   "cell_type": "code",
   "execution_count": 40,
   "metadata": {},
   "outputs": [],
   "source": [
    "# first use KNN classifier method - import it from sklearn\n",
    "from sklearn.neighbors import KNeighborsClassifier"
   ]
  },
  {
   "cell_type": "code",
   "execution_count": 41,
   "metadata": {},
   "outputs": [],
   "source": [
    "# instantiate the knn estimator\n",
    "knn = KNeighborsClassifier()"
   ]
  },
  {
   "cell_type": "code",
   "execution_count": 42,
   "metadata": {},
   "outputs": [
    {
     "data": {
      "text/plain": [
       "KNeighborsClassifier(algorithm='auto', leaf_size=30, metric='minkowski',\n",
       "                     metric_params=None, n_jobs=None, n_neighbors=5, p=2,\n",
       "                     weights='uniform')"
      ]
     },
     "execution_count": 42,
     "metadata": {},
     "output_type": "execute_result"
    }
   ],
   "source": [
    "knn.fit(scaled_features,labels)"
   ]
  },
  {
   "cell_type": "code",
   "execution_count": 43,
   "metadata": {},
   "outputs": [],
   "source": [
    "labels_predict=lda.predict(scaled_features)"
   ]
  },
  {
   "cell_type": "code",
   "execution_count": 44,
   "metadata": {},
   "outputs": [
    {
     "name": "stdout",
     "output_type": "stream",
     "text": [
      "Accuracy: 0.9906542056074766\n"
     ]
    }
   ],
   "source": [
    "from sklearn.metrics import accuracy_score\n",
    "print(\"Accuracy:\",accuracy_score(labels,labels_predict))"
   ]
  },
  {
   "cell_type": "code",
   "execution_count": 45,
   "metadata": {},
   "outputs": [
    {
     "name": "stdout",
     "output_type": "stream",
     "text": [
      "          Predicted 1  Predicted 2  Predicted 3  Predicted 4  Predicted 5  \\\n",
      "Actual 1            2            0            0            0            0   \n",
      "Actual 2            0            5            0            0            0   \n",
      "Actual 3            0            0            6            0            0   \n",
      "Actual 4            0            1            1          198            0   \n",
      "Actual 5            0            0            0            0            1   \n",
      "Total               2            6            7          198            1   \n",
      "\n",
      "          Total  \n",
      "Actual 1      2  \n",
      "Actual 2      5  \n",
      "Actual 3      6  \n",
      "Actual 4    200  \n",
      "Actual 5      1  \n",
      "Total       214  \n"
     ]
    }
   ],
   "source": [
    "## Evaluate Model Performance\n",
    "from sklearn.metrics import confusion_matrix\n",
    "cm=pd.DataFrame(confusion_matrix(labels,labels_predict))\n",
    "cm['Total']=np.sum(cm,axis=1)\n",
    "cm=cm.append(np.sum(cm,axis=0),ignore_index=True)\n",
    "cm.columns=[\"Predicted 1\",\"Predicted 2\",\"Predicted 3\",\"Predicted 4\",\"Predicted 5\",\"Total\"]\n",
    "cm=cm.set_index([[\"Actual 1\",\"Actual 2\",\"Actual 3\",\"Actual 4\",\"Actual 5\",\"Total\"]])\n",
    "print(cm)"
   ]
  },
  {
   "cell_type": "code",
   "execution_count": null,
   "metadata": {},
   "outputs": [],
   "source": []
  }
 ],
 "metadata": {
  "kernelspec": {
   "display_name": "Python 3",
   "language": "python",
   "name": "python3"
  },
  "language_info": {
   "codemirror_mode": {
    "name": "ipython",
    "version": 3
   },
   "file_extension": ".py",
   "mimetype": "text/x-python",
   "name": "python",
   "nbconvert_exporter": "python",
   "pygments_lexer": "ipython3",
   "version": "3.8.3"
  }
 },
 "nbformat": 4,
 "nbformat_minor": 4
}
